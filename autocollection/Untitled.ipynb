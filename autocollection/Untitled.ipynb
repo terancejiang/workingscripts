{
 "cells": [
  {
   "cell_type": "code",
   "execution_count": 1,
   "metadata": {},
   "outputs": [],
   "source": [
    "import os"
   ]
  },
  {
   "cell_type": "code",
   "execution_count": 3,
   "metadata": {},
   "outputs": [
    {
     "name": "stdout",
     "output_type": "stream",
     "text": [
      "0 3 A00000057.mp4\n",
      "0 3 D54809682.mp4\n",
      "0 3 D00000005.mp4\n",
      "0 2 A00000038.mp4\n",
      "0 3 D81141235.mp4\n",
      "0 3 D81141444.mp4\n"
     ]
    }
   ],
   "source": [
    "with open('tmp.txt','r')as tmp:\n",
    "    pred = tmp.readlines()\n",
    "\n",
    "with open('label.txt','r')as label:\n",
    "\n",
    "    label = label.readlines()\n",
    "pred = [p.rstrip() for p in pred]\n",
    "label = [l.replace('\\t',' ') for l in label]\n",
    "\n",
    "label = [l.rstrip() for l in label]\n",
    "for p in pred:\n",
    "    fname,plabel = p.split(' ') \n",
    "    \n",
    "    for t in label:\n",
    "        tfname,_,tlabel = t.split(' ') \n",
    "        if fname == tfname:\n",
    "            if int(tlabel) ==0 and int(plabel) >1:\n",
    "                print(tlabel, plabel,fname)\n",
    "                \n"
   ]
  },
  {
   "cell_type": "code",
   "execution_count": 38,
   "metadata": {},
   "outputs": [
    {
     "data": {
      "text/plain": [
       "'D81141444.mp4  0'"
      ]
     },
     "execution_count": 38,
     "metadata": {},
     "output_type": "execute_result"
    }
   ],
   "source": [
    "t"
   ]
  },
  {
   "cell_type": "code",
   "execution_count": 27,
   "metadata": {},
   "outputs": [
    {
     "data": {
      "text/plain": [
       "3"
      ]
     },
     "execution_count": 27,
     "metadata": {},
     "output_type": "execute_result"
    }
   ],
   "source": [
    "int(plabel)"
   ]
  },
  {
   "cell_type": "code",
   "execution_count": 28,
   "metadata": {},
   "outputs": [
    {
     "data": {
      "text/plain": [
       "'D54809356.mp4'"
      ]
     },
     "execution_count": 28,
     "metadata": {},
     "output_type": "execute_result"
    }
   ],
   "source": [
    "tfname"
   ]
  },
  {
   "cell_type": "code",
   "execution_count": 29,
   "metadata": {},
   "outputs": [
    {
     "data": {
      "text/plain": [
       "'D54809356.mp4'"
      ]
     },
     "execution_count": 29,
     "metadata": {},
     "output_type": "execute_result"
    }
   ],
   "source": [
    "fname"
   ]
  },
  {
   "cell_type": "code",
   "execution_count": null,
   "metadata": {},
   "outputs": [],
   "source": [
    "55555555\n",
    "33\n",
    "22222222222\n",
    "44444444\n",
    "6666666\n",
    "7\n",
    "88\n",
    "9\n",
    "10"
   ]
  },
  {
   "cell_type": "code",
   "execution_count": null,
   "metadata": {},
   "outputs": [],
   "source": [
    "\n",
    "1 1 A00000017.mp4\t2 always open\n",
    "3 1 A00000042.mp4\t10 movement too short\n",
    "1 1 D81142934.mp4\t6 pre motion event not long enough\n",
    "3 1 A00000064.mp4\t\n",
    "1 1 A00000024.mp4\t2 always open\n",
    "3 1 D00000012.mp4\t6 pre motion event not long enough\n"
   ]
  }
 ],
 "metadata": {
  "kernelspec": {
   "display_name": "Python 3",
   "language": "python",
   "name": "python3"
  },
  "language_info": {
   "codemirror_mode": {
    "name": "ipython",
    "version": 3
   },
   "file_extension": ".py",
   "mimetype": "text/x-python",
   "name": "python",
   "nbconvert_exporter": "python",
   "pygments_lexer": "ipython3",
   "version": "3.6.10"
  }
 },
 "nbformat": 4,
 "nbformat_minor": 4
}
